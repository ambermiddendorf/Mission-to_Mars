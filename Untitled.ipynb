{
 "cells": [
  {
   "cell_type": "code",
   "execution_count": 5,
   "id": "989ca46f",
   "metadata": {
    "scrolled": true
   },
   "outputs": [
    {
     "name": "stderr",
     "output_type": "stream",
     "text": [
      "\n",
      "\n",
      "====== WebDriver manager ======\n",
      "Could not get version for google-chrome with the command:  powershell \"$ErrorActionPreference='silentlycontinue' ; (Get-Item -Path \"$env:PROGRAMFILES\\Google\\Chrome\\Application\\chrome.exe\").VersionInfo.FileVersion ; if (-not $? -or $? -match $error) { (Get-Item -Path \"$env:PROGRAMFILES(x86)\\Google\\Chrome\\Application\\chrome.exe\").VersionInfo.FileVersion } if (-not $? -or $? -match $error) { (Get-Item -Path \"$env:LOCALAPPDATA\\Google\\Chrome\\Application\\chrome.exe\").VersionInfo.FileVersion } if (-not $? -or $? -match $error) { reg query \"HKCU\\SOFTWARE\\Google\\Chrome\\BLBeacon\" /v version } if (-not $? -or $? -match $error) { reg query \"HKLM\\SOFTWARE\\Wow6432Node\\Microsoft\\Windows\\CurrentVersion\\Uninstall\\Google Chrome\" /v version }\"\n",
      "Current google-chrome version is UNKNOWN\n",
      "Get LATEST chromedriver version for UNKNOWN google-chrome\n",
      "Trying to download new driver from https://chromedriver.storage.googleapis.com/99.0.4844.51/chromedriver_win32.zip\n",
      "Driver has been saved in cache [C:\\Users\\amber\\.wdm\\drivers\\chromedriver\\win32\\99.0.4844.51]\n"
     ]
    }
   ],
   "source": [
    "# Import Splinter and BeautifulSoup\n",
    "from splinter import Browser\n",
    "from bs4 import BeautifulSoup as soup\n",
    "from webdriver_manager.chrome import ChromeDriverManager\n",
    "import requests\n",
    "import pandas as pd\n",
    "executable_path = {'executable_path': ChromeDriverManager().install()}\n",
    "browser = Browser('chrome', **executable_path, headless=False)"
   ]
  },
  {
   "cell_type": "code",
   "execution_count": 6,
   "id": "8467181a",
   "metadata": {},
   "outputs": [],
   "source": [
    "browser.visit('https://marshemispheres.com/cerberus.html')\n",
    "i_html=browser.html\n",
    "i_soup=soup(i_html, \"html.parser\")\n",
    "m_img_url=i_soup.find(class_='wide-image').get('src')\n"
   ]
  },
  {
   "cell_type": "code",
   "execution_count": 7,
   "id": "ae8abb33",
   "metadata": {},
   "outputs": [],
   "source": [
    "browser.quit()"
   ]
  },
  {
   "cell_type": "code",
   "execution_count": 17,
   "id": "16170468",
   "metadata": {},
   "outputs": [],
   "source": [
    "def get_img_url(link):\n",
    "    r = requests.get(link)\n",
    "    i_soup=soup(r.content, \"html.parser\")\n",
    "    m_img_url=i_soup.find(class_='wide-image').get('src')\n",
    "    return(m_img_url)"
   ]
  },
  {
   "cell_type": "code",
   "execution_count": 18,
   "id": "234a49be",
   "metadata": {},
   "outputs": [
    {
     "data": {
      "text/plain": [
       "'images/f5e372a36edfa389625da6d0cc25d905_cerberus_enhanced.tif_full.jpg'"
      ]
     },
     "execution_count": 18,
     "metadata": {},
     "output_type": "execute_result"
    }
   ],
   "source": [
    "link = 'https://marshemispheres.com/cerberus.html'\n",
    "get_img_url(link)"
   ]
  },
  {
   "cell_type": "code",
   "execution_count": null,
   "id": "21750776",
   "metadata": {},
   "outputs": [],
   "source": [
    "image_dict=[]\n",
    "hemis=[]\n",
    "for i in hemisphere_image_urls:\n",
    "    title = i.find('h3').text\n",
    "    link = \"https://marshemispheres.com/\"+ i.find(class_='itemLink product-item').get('href')\n",
    "    hemis.append({'title': title, 'link': link})\n",
    "\n",
    "for i in hemis:\n",
    "#    m_img_url = get_img_url(link)\n",
    "    browser.visit(link)\n",
    "    i_html=browser.html\n",
    "    i_soup=soup(i_html, \"html.parser\")\n",
    "    m_img_url=i_soup.find(class_='downloads').get('src')\n",
    "#    browser.back()\n",
    "    image_dict.append({'title': title, 'img_url':m_img_url})\n",
    "        \n",
    "#    image_dict.append({'title': title, 'link':link, 'img_url':i_soup})"
   ]
  }
 ],
 "metadata": {
  "kernelspec": {
   "display_name": "PythonData",
   "language": "python",
   "name": "pythondata"
  },
  "language_info": {
   "codemirror_mode": {
    "name": "ipython",
    "version": 3
   },
   "file_extension": ".py",
   "mimetype": "text/x-python",
   "name": "python",
   "nbconvert_exporter": "python",
   "pygments_lexer": "ipython3",
   "version": "3.7.11"
  }
 },
 "nbformat": 4,
 "nbformat_minor": 5
}
