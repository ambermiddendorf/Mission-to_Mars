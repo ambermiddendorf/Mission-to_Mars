{
 "cells": [
  {
   "cell_type": "code",
   "execution_count": 56,
   "id": "91b4a996",
   "metadata": {
    "scrolled": true
   },
   "outputs": [],
   "source": [
    "# Import Splinter and BeautifulSoup\n",
    "from splinter import Browser\n",
    "from bs4 import BeautifulSoup as soup\n",
    "from webdriver_manager.chrome import ChromeDriverManager\n",
    "import requests\n",
    "import pandas as pd\n"
   ]
  },
  {
   "cell_type": "code",
   "execution_count": 81,
   "id": "e2578569",
   "metadata": {},
   "outputs": [
    {
     "name": "stderr",
     "output_type": "stream",
     "text": [
      "\n",
      "\n",
      "====== WebDriver manager ======\n",
      "Could not get version for google-chrome with the command:  powershell \"$ErrorActionPreference='silentlycontinue' ; (Get-Item -Path \"$env:PROGRAMFILES\\Google\\Chrome\\Application\\chrome.exe\").VersionInfo.FileVersion ; if (-not $? -or $? -match $error) { (Get-Item -Path \"$env:PROGRAMFILES(x86)\\Google\\Chrome\\Application\\chrome.exe\").VersionInfo.FileVersion } if (-not $? -or $? -match $error) { (Get-Item -Path \"$env:LOCALAPPDATA\\Google\\Chrome\\Application\\chrome.exe\").VersionInfo.FileVersion } if (-not $? -or $? -match $error) { reg query \"HKCU\\SOFTWARE\\Google\\Chrome\\BLBeacon\" /v version } if (-not $? -or $? -match $error) { reg query \"HKLM\\SOFTWARE\\Wow6432Node\\Microsoft\\Windows\\CurrentVersion\\Uninstall\\Google Chrome\" /v version }\"\n",
      "Current google-chrome version is UNKNOWN\n",
      "Get LATEST chromedriver version for UNKNOWN google-chrome\n",
      "Trying to download new driver from https://chromedriver.storage.googleapis.com/99.0.4844.51/chromedriver_win32.zip\n",
      "Driver has been saved in cache [C:\\Users\\amber\\.wdm\\drivers\\chromedriver\\win32\\99.0.4844.51]\n"
     ]
    }
   ],
   "source": [
    "# 1. Use browser to visit the URL \n",
    "executable_path = {'executable_path': ChromeDriverManager().install()}\n",
    "browser = Browser('chrome', **executable_path, headless=False)\n",
    "url = 'https://marshemispheres.com/'\n",
    "browser.visit(url)"
   ]
  },
  {
   "cell_type": "code",
   "execution_count": 3,
   "id": "d1c7c434",
   "metadata": {},
   "outputs": [],
   "source": [
    "def get_img_url(link):\n",
    "    r = requests.get(link)\n",
    "    i_soup=soup(r.content, \"html.parser\")\n",
    "    m_img_url=i_soup.find(class_='wide-image').get('src')\n",
    "    return(m_img_url)"
   ]
  },
  {
   "cell_type": "code",
   "execution_count": 90,
   "id": "d40d2a05",
   "metadata": {},
   "outputs": [],
   "source": [
    "image_link = browser.find_by_tag('h3')[1]\n",
    "image_link.click()"
   ]
  },
  {
   "cell_type": "code",
   "execution_count": 94,
   "id": "95c7bf99",
   "metadata": {},
   "outputs": [
    {
     "data": {
      "text/plain": [
       "<div class=\"downloads\">\n",
       "<img class=\"thumb\" src=\"images/4e59980c1c57f89c680c0e1ccabbeff1_valles_marineris_enhanced.tif_thumb.png\"/>\n",
       "<h3>Download</h3>\n",
       "<ul>\n",
       "<li><a href=\"images/valles_marineris_enhanced-full.jpg\" target=\"_blank\">Sample</a> (jpg) 1024px wide\n",
       "                    </li>\n",
       "<li><a href=\"images/valles_marineris_enhanced.tif\" target=\"_blank\">Original</a> (tif<span class=\"tooltip word-tif\" title=\"\"></span>) 27 MB</li>\n",
       "</ul>\n",
       "</div>"
      ]
     },
     "execution_count": 94,
     "metadata": {},
     "output_type": "execute_result"
    }
   ],
   "source": [
    "html = browser.html\n",
    "img_soup = soup(html, \"html.parser\")\n",
    "d_img=img_soup.find(class_='downloads')\n",
    "full_img=d_img.find_all('li')[1]\n",
    "full_img_url=full_img.find(href=True).get('href')\n",
    "d_img"
   ]
  },
  {
   "cell_type": "code",
   "execution_count": 92,
   "id": "a178811b",
   "metadata": {},
   "outputs": [],
   "source": [
    "browser.back()"
   ]
  },
  {
   "cell_type": "code",
   "execution_count": 95,
   "id": "17e34154",
   "metadata": {},
   "outputs": [
    {
     "name": "stdout",
     "output_type": "stream",
     "text": [
      "Valles Marineris Hemisphere Enhanced https://marshemispheres.com/images/valles_marineris_enhanced.tif\n"
     ]
    }
   ],
   "source": [
    "title = img_soup.find(class_='title').getText()\n",
    "print(title, url+full_img_url)"
   ]
  },
  {
   "cell_type": "code",
   "execution_count": 93,
   "id": "367c5f54",
   "metadata": {},
   "outputs": [],
   "source": [
    "image_link=browser.find_by_tag('h3')[3]\n",
    "image_link.click()"
   ]
  },
  {
   "cell_type": "code",
   "execution_count": null,
   "id": "87ec3543",
   "metadata": {},
   "outputs": [],
   "source": [
    "image_dict=[]\n",
    "hemis=[]\n",
    "for i in hemisphere_image_urls:\n",
    "    title = i.find('h3').text\n",
    "    link = \"https://marshemispheres.com/\"+ i.find(class_='itemLink product-item').get('href')\n",
    "    hemis.append({'title': title, 'link': link})\n",
    "\n",
    "for i in hemis:\n",
    "#    m_img_url = get_img_url(link)\n",
    "    browser.visit(link)\n",
    "    i_html=browser.html\n",
    "    i_soup=soup(i_html, \"html.parser\")\n",
    "    m_img_url=i_soup.find(class_='downloads').get('src')\n",
    "#    browser.back()\n",
    "    image_dict.append({'title': title, 'img_url':m_img_url})\n",
    "        \n",
    "#    image_dict.append({'title': title, 'link':link, 'img_url':i_soup})"
   ]
  },
  {
   "cell_type": "code",
   "execution_count": 96,
   "id": "2f37af0f",
   "metadata": {},
   "outputs": [],
   "source": [
    "browser.quit()"
   ]
  },
  {
   "cell_type": "code",
   "execution_count": null,
   "id": "f5053769",
   "metadata": {},
   "outputs": [],
   "source": [
    "image_link = browser.find_by_tag('h3')[0]\n",
    "image_link.click()\n",
    "time.sleep(2)\n",
    "html = browser.html\n",
    "img_soup = soup(html, \"html.parser\")\n",
    "d_img = img_soup.find(class_='downloads')\n",
    "full_img=d_img.find_all('li')[1]\n",
    "full_img_url=full_img.find(href=True).get('href')\n",
    "title = img_soup.find(class_='title').getText()\n",
    "image_dict.append({'title': title, 'full_img':url+full_img_url})\n",
    "browser.back()\n",
    "\n",
    "image_link = browser.find_by_tag('h3')[1]\n",
    "image_link.click()\n",
    "time.sleep(2)\n",
    "html = browser.html\n",
    "img_soup = soup(html, \"html.parser\")\n",
    "d_img = img_soup.find(class_='downloads')\n",
    "full_img=d_img.find_all('li')[1]\n",
    "full_img_url=full_img.find(href=True).get('href')\n",
    "title = img_soup.find(class_='title').getText()\n",
    "image_dict.append({'title': title, 'full_img':url+full_img_url})\n",
    "browser.back() \n",
    "\n",
    "image_link = browser.find_by_tag('h3')[2]\n",
    "image_link.click()\n",
    "time.sleep(2)\n",
    "html = browser.html\n",
    "img_soup = soup(html, \"html.parser\")\n",
    "d_img = img_soup.find(class_='downloads')\n",
    "full_img=d_img.find_all('li')[1]\n",
    "full_img_url=full_img.find(href=True).get('href')\n",
    "title = img_soup.find(class_='title').getText()\n",
    "image_dict.append({'title': title, 'full_img':url+full_img_url})\n",
    "browser.back()  \n",
    "\n",
    "image_link = browser.find_by_tag('h3')[3]\n",
    "image_link.click()\n",
    "time.sleep(2)\n",
    "html = browser.html\n",
    "img_soup = soup(html, \"html.parser\")\n",
    "d_img = img_soup.find(class_='downloads')\n",
    "full_img=d_img.find_all('li')[1]\n",
    "full_img_url=full_img.find(href=True).get('href')\n",
    "title = img_soup.find(class_='title').getText()\n",
    "image_dict.append({'title': title, 'full_img':url+full_img_url})\n",
    "browser.back()   "
   ]
  }
 ],
 "metadata": {
  "kernelspec": {
   "display_name": "PythonData",
   "language": "python",
   "name": "pythondata"
  },
  "language_info": {
   "codemirror_mode": {
    "name": "ipython",
    "version": 3
   },
   "file_extension": ".py",
   "mimetype": "text/x-python",
   "name": "python",
   "nbconvert_exporter": "python",
   "pygments_lexer": "ipython3",
   "version": "3.7.11"
  }
 },
 "nbformat": 4,
 "nbformat_minor": 5
}
